{
  "nbformat": 4,
  "nbformat_minor": 0,
  "metadata": {
    "colab": {
      "name": "homework_05_template.ipynb",
      "provenance": [],
      "collapsed_sections": []
    },
    "kernelspec": {
      "name": "python3",
      "display_name": "Python 3"
    },
    "language_info": {
      "name": "python"
    }
  },
  "cells": [
    {
      "cell_type": "code",
      "metadata": {
        "id": "R-b4yXrVP3sT"
      },
      "source": [
        "%matplotlib inline\n",
        "!pip install opencv-contrib-python==4.3.0.38\n",
        "\n",
        "\"\"\" Forces colab to use the correct version of opencv, sets up matlab, imports\n",
        "\"\"\"\n",
        "\n",
        "import matplotlib\n",
        "import matplotlib.pyplot as plt\n",
        "import cv2\n",
        "import numpy as np"
      ],
      "execution_count": null,
      "outputs": []
    },
    {
      "cell_type": "code",
      "metadata": {
        "id": "tALT-S-EP98A"
      },
      "source": [
        "\"\"\"  This loads the images.  You must first upload the images to your colab\n",
        "session.  Each time you start a new session, you will need to upload them again.\n",
        "\"\"\"\n",
        "im_left = cv2.imread('0014_2.png')\n",
        "print(\"image shape:\", im_left.shape)\n",
        "plt.imshow(im_left[:, :, ::-1])\n",
        "plt.figure()\n",
        "im_right = cv2.imread('0017_2.png')\n",
        "plt.imshow(im_right[:, :, ::-1])\n",
        "images = [im_left, im_right]"
      ],
      "execution_count": null,
      "outputs": []
    },
    {
      "cell_type": "code",
      "metadata": {
        "id": "q72cGuB8QAPU"
      },
      "source": [
        "\"\"\" Detects SIFT features in all of the images\n",
        "\"\"\"\n",
        "keypoints = []\n",
        "descriptions = []\n",
        "for im in images:\n",
        "  gray= cv2.cvtColor(im,cv2.COLOR_RGB2GRAY)\n",
        "\n",
        "  sift = cv2.xfeatures2d.SIFT_create()\n",
        "  kp, des = sift.detectAndCompute(gray,None)\n",
        "\n",
        "  keypoints.append(kp)\n",
        "  descriptions.append(des)\n",
        "\n",
        "  plt.figure(figsize=(6.4*2, 4.8*2))\n",
        "  out_im = cv2.drawKeypoints(gray,kp, gray, flags=cv2.DRAW_MATCHES_FLAGS_DRAW_RICH_KEYPOINTS)\n",
        "\n",
        "  plt.imshow(out_im)"
      ],
      "execution_count": null,
      "outputs": []
    },
    {
      "cell_type": "code",
      "metadata": {
        "id": "F4LMaR4NQCok"
      },
      "source": [
        "\"\"\" Matches the detected keypoints between the images\n",
        "\"\"\"\n",
        "\n",
        "bf = cv2.BFMatcher(crossCheck=True)\n",
        "matches = bf.match(descriptions[0], descriptions[1])\n",
        "\n",
        "print(\"num matches\", len(matches))\n",
        "\n",
        "\n",
        "matched_image = cv2.drawMatches(images[0][:, :, ::-1], keypoints[0], images[1][:, :, ::-1], keypoints[1], matches, None, flags=2)\n",
        "plt.figure(figsize=(6.4*2, 4.8*2))\n",
        "plt.title(\"All Matches\")\n",
        "plt.imshow(matched_image)"
      ],
      "execution_count": null,
      "outputs": []
    },
    {
      "cell_type": "code",
      "metadata": {
        "id": "W-eXm0o7QGce"
      },
      "source": [
        "\"\"\" Compute calibrated coordinates\n",
        "\"\"\"\n",
        "f = 552\n",
        "u0 = 307.5\n",
        "v0 = 205\n",
        "\n",
        "K = np.array([[f, 0, u0],\n",
        "              [0, f, v0],\n",
        "              [0, 0, 1]])\n",
        "\n",
        "\n",
        "uncalibrated_1 = [[keypoints[0][match.queryIdx].pt[0], keypoints[0][match.queryIdx].pt[1], 1] for match in matches]\n",
        "uncalibrated_2 = [[keypoints[1][match.trainIdx].pt[0], keypoints[1][match.trainIdx].pt[1], 1] for match in matches]\n",
        "\n",
        "uncalibrated_1 = np.array(uncalibrated_1).T\n",
        "uncalibrated_2 = np.array(uncalibrated_2).T\n",
        "\n",
        "k_inv = np.linalg.inv(K)\n",
        "\n",
        "calibrated_1 = np.matmul(k_inv, uncalibrated_1).T\n",
        "calibrated_2 = np.matmul(k_inv, uncalibrated_2).T"
      ],
      "execution_count": null,
      "outputs": []
    },
    {
      "cell_type": "code",
      "metadata": {
        "id": "GEtPk9QhQHgT"
      },
      "source": [
        "def least_squares_estimation(X1, X2):\n",
        "  \"\"\" YOUR CODE HERE\n",
        "  \"\"\"\n",
        "\n",
        "  \"\"\" END YOUR CODE\n",
        "  \"\"\"\n",
        "  return E\n",
        "\n",
        "E_least = least_squares_estimation(calibrated_1, calibrated_2)\n",
        "print(\"E least\", E_least)"
      ],
      "execution_count": null,
      "outputs": []
    },
    {
      "cell_type": "code",
      "metadata": {
        "id": "HV5IHtZ5QMIF"
      },
      "source": [
        "def ransac_estimator(X1, X2):\n",
        "  num_iterations = 20000\n",
        "  sample_size = 8\n",
        "\n",
        "  eps = 10**-4\n",
        "\n",
        "  best_num_inliers = -1\n",
        "  best_inliers = None\n",
        "  best_E = None\n",
        "\n",
        "  for _ in range(num_iterations):\n",
        "    permuted_indices = np.random.permutation(np.arange(X1.shape[0]))\n",
        "    sample_indices = permuted_indices[:sample_size]\n",
        "    test_indices = permuted_indices[sample_size:]\n",
        "\n",
        "    \"\"\" YOUR CODE HERE\n",
        "    \"\"\"\n",
        "\n",
        "    \"\"\" END YOUR CODE\n",
        "    \"\"\"\n",
        "    if inliers.shape[0] > best_num_inliers:\n",
        "      best_num_inliers = inliers.shape[0]\n",
        "      best_E = E\n",
        "      best_inliers = inliers\n",
        "\n",
        "\n",
        "  return best_E, best_inliers\n",
        "E_ransac, inliers = ransac_estimator(calibrated_1, calibrated_2)\n",
        "print(\"E_ransac\", E_ransac)\n",
        "print(\"Num inliers\", inliers.shape)\n",
        "\n",
        "inlier_matches = [matches[i] for i in inliers]\n",
        "\n",
        "matched_image = cv2.drawMatches(images[0][:, :, ::-1],\n",
        "                                keypoints[0],\n",
        "                                images[1][:, :, ::-1],\n",
        "                                keypoints[1],\n",
        "                                inlier_matches, None, flags=2)\n",
        "plt.figure(figsize=(6.4*2, 4.8*2))\n",
        "plt.title(\"RANSAC Inlier Matches\")\n",
        "plt.imshow(matched_image)"
      ],
      "execution_count": null,
      "outputs": []
    },
    {
      "cell_type": "code",
      "metadata": {
        "id": "vzJS1yoeQQ17"
      },
      "source": [
        "def plot_lines(lines, h, w):\n",
        "  \"\"\" Utility function to plot lines\n",
        "  \"\"\"\n",
        "\n",
        "  for i in range(lines.shape[1]):\n",
        "    if abs(lines[0, i] / lines[1, i]) < 1:\n",
        "      y0 = -lines[2, i] / lines[1, i]\n",
        "      yw = y0 - w * lines[0, i] / lines[1, i]\n",
        "      plt.plot([0, w], [y0, yw])\n",
        "    else:\n",
        "      x0 = -lines[2, i] / lines[0, i]\n",
        "      xh = x0 - h * lines[1, i] / lines[0, i]\n",
        "      plt.plot([x0, xh], [0, h])"
      ],
      "execution_count": null,
      "outputs": []
    },
    {
      "cell_type": "code",
      "metadata": {
        "id": "Yb1ra6LbQS5t"
      },
      "source": [
        "def plot_epipolar_lines(image1, image2, uncalibrated_1, uncalibrated_2, E, K):\n",
        "  \"\"\" Plots the epipolar lines on the images\n",
        "  \"\"\"\n",
        "\n",
        "  \"\"\" YOUR CODE HERE\n",
        "  \"\"\"\n",
        "\n",
        "  \"\"\" END YOUR CODE\n",
        "  \"\"\"\n",
        "\n",
        "  plt.figure(figsize=(6.4*3, 4.8*3))\n",
        "  ax = plt.subplot(1, 2, 1)\n",
        "  ax.set_xlim([0, image1.shape[1]])\n",
        "  ax.set_ylim([image1.shape[0], 0])\n",
        "  plt.imshow(image1[:, :, ::-1])\n",
        "  plot_lines(epipolar_lines_in_1, image1.shape[0], image1.shape[1])\n",
        "\n",
        "  ax = plt.subplot(1, 2, 2)\n",
        "  ax.set_xlim([0, image1.shape[1]])\n",
        "  ax.set_ylim([image1.shape[0], 0])\n",
        "  plt.imshow(image2[:, :, ::-1])\n",
        "  plot_lines(epipolar_lines_in_2, image2.shape[0], image2.shape[1])\n",
        "\n",
        "\n",
        "uncalibrated_inliers_1 = [[keypoints[0][match.queryIdx].pt[0], keypoints[0][match.queryIdx].pt[1], 1] for match in inlier_matches]\n",
        "uncalibrated_inliers_2 = [[keypoints[1][match.trainIdx].pt[0], keypoints[1][match.trainIdx].pt[1], 1] for match in inlier_matches]\n",
        "uncalibrated_inliers_1 = np.array(uncalibrated_inliers_1).T\n",
        "uncalibrated_inliers_2 = np.array(uncalibrated_inliers_2).T\n",
        "\n",
        "plot_epipolar_lines(images[0], images[1], uncalibrated_inliers_1, uncalibrated_inliers_2, E_ransac, K)"
      ],
      "execution_count": null,
      "outputs": []
    },
    {
      "cell_type": "code",
      "metadata": {
        "id": "V28QobJMQYA2"
      },
      "source": [
        "def pose_canidates_from_E(E):\n",
        "  transform_canidates = []\n",
        "  \"\"\" YOUR CODE HERE\n",
        "  \"\"\"\n",
        "\n",
        "  \"\"\" END YOUR CODE\n",
        "  \"\"\"\n",
        "  return transform_canidates\n",
        "\n",
        "\n",
        "\n",
        "transform_canidates = pose_canidates_from_E(E_ransac)\n",
        "print(\"transform_canidates\", transform_canidates)"
      ],
      "execution_count": null,
      "outputs": []
    },
    {
      "cell_type": "code",
      "metadata": {
        "id": "MnKHmt1uQbsP"
      },
      "source": [
        "def plot_reconstruction(P1, P2, T, R):\n",
        "  P1trans = (R @ P1.T).T + T\n",
        "\n",
        "  plt.figure(figsize=(6.4*2, 4.8*2))\n",
        "  ax = plt.axes()\n",
        "  ax.set_xlabel('x')\n",
        "  ax.set_ylabel('z')\n",
        "  plt.plot([0], [0], 'bs')\n",
        "  plt.plot([T[0]], [T[2]], 'ro')\n",
        "\n",
        "  for i in range(P1.shape[0]):\n",
        "    plt.plot([0, P2[i, 0]], [0, P2[i, 2]], 'bs-')\n",
        "    plt.plot([T[0], P1trans[i, 0]], [T[2], P1trans[i, 2]], 'ro-')"
      ],
      "execution_count": null,
      "outputs": []
    },
    {
      "cell_type": "code",
      "metadata": {
        "id": "1rqcaolsQcq_"
      },
      "source": [
        "def reconstruct3D(transform_canidates, calibrated_1, calibrated_2):\n",
        "  \"\"\"This functions selects (T,R) among the 4 candidates transform_candidates\n",
        "  such that all triangulated points are in front of both cameras.\n",
        "  \"\"\"\n",
        "\n",
        "  best_num_front = -1\n",
        "  best_canidate = None\n",
        "  best_lambdas = None\n",
        "  for canidate in transform_canidates:\n",
        "    R = canidate['R']\n",
        "    T = canidate['T']\n",
        "\n",
        "    lambdas = np.zeros((2, calibrated_1.shape[0]))\n",
        "    \"\"\" YOUR CODE HERE\n",
        "    \"\"\"\n",
        "\n",
        "    \"\"\" END YOUR CODE\n",
        "    \"\"\"\n",
        "    num_front = np.sum(np.logical_and(lambdas[0]>0, lambdas[1]>0))\n",
        "\n",
        "    if num_front > best_num_front:\n",
        "      best_num_front = num_front\n",
        "      best_canidate = canidate\n",
        "      best_lambdas = lambdas\n",
        "      print(\"best\", num_front, best_lambdas[0].shape)\n",
        "    else:\n",
        "      print(\"not best\", num_front)\n",
        "\n",
        "\n",
        "  P1 = best_lambdas[1].reshape(-1, 1) * calibrated_1\n",
        "  P2 = best_lambdas[0].reshape(-1, 1) * calibrated_2\n",
        "  T = best_canidate['T']\n",
        "  R = best_canidate['R']\n",
        "  return P1, P2, T, R\n",
        "\n",
        "\n",
        "P1, P2, T, R = reconstruct3D(transform_canidates, calibrated_1, calibrated_2)\n",
        "\n",
        "\n",
        "plot_reconstruction(P1, P2, T, R)"
      ],
      "execution_count": null,
      "outputs": []
    },
    {
      "cell_type": "code",
      "metadata": {
        "id": "Lj2ORZyKQiL9"
      },
      "source": [
        "def show_reprojections(image1, image2, uncalibrated_1, uncalibrated_2, P1, P2, K, T, R):\n",
        "\n",
        "  \"\"\" YOUR CODE HERE\n",
        "  \"\"\"\n",
        "\n",
        "  \"\"\" END YOUR CODE\n",
        "  \"\"\"\n",
        "\n",
        "\n",
        "  plt.figure(figsize=(6.4*3, 4.8*3))\n",
        "  ax = plt.subplot(1, 2, 1)\n",
        "  ax.set_xlim([0, image1.shape[1]])\n",
        "  ax.set_ylim([image1.shape[0], 0])\n",
        "  plt.imshow(image1[:, :, ::-1])\n",
        "  plt.plot(P2proj[:, 0] / P2proj[:, 2],\n",
        "           P2proj[:, 1] / P2proj[:, 2], 'bs')\n",
        "  plt.plot(uncalibrated_1[0, :], uncalibrated_1[1, :], 'ro')\n",
        "\n",
        "  ax = plt.subplot(1, 2, 2)\n",
        "  ax.set_xlim([0, image1.shape[1]])\n",
        "  ax.set_ylim([image1.shape[0], 0])\n",
        "  plt.imshow(image2[:, :, ::-1])\n",
        "  plt.plot(P1proj[:, 0] / P1proj[:, 2],\n",
        "           P1proj[:, 1] / P1proj[:, 2], 'bs')\n",
        "  plt.plot(uncalibrated_2[0, :], uncalibrated_2[1, :], 'ro')\n",
        "\n",
        "show_reprojections(images[0], images[1], uncalibrated_1, uncalibrated_2, P1, P2, K, T, R)"
      ],
      "execution_count": null,
      "outputs": []
    }
  ]
}