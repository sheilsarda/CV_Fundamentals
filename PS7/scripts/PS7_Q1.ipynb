{
 "cells": [
  {
   "cell_type": "markdown",
   "metadata": {
    "id": "IZ2gUqjEA1sq"
   },
   "source": [
    "# Introduction"
   ]
  },
  {
   "cell_type": "code",
   "execution_count": 1,
   "metadata": {
    "id": "Phb1sSxoa5nt"
   },
   "outputs": [],
   "source": [
    "%matplotlib inline\n",
    "\n",
    "import torch\n",
    "import math\n",
    "import numpy as np\n",
    "import matplotlib\n",
    "import matplotlib.pyplot as plt\n",
    "import numpy.fft as fft\n",
    "from scipy.signal import convolve2d\n",
    "from scipy import ndimage\n",
    "from math import pi \n",
    "import torch\n",
    "import cv2"
   ]
  },
  {
   "cell_type": "markdown",
   "metadata": {
    "id": "58h51GTvxfog"
   },
   "source": [
    "# Q1 Scale Invariant Detection"
   ]
  },
  {
   "cell_type": "markdown",
   "metadata": {
    "id": "6qvr7xK0ekdg"
   },
   "source": [
    "## Laplacians of Gaussians"
   ]
  },
  {
   "cell_type": "code",
   "execution_count": 17,
   "metadata": {
    "id": "dLDZpUvRe2JQ"
   },
   "outputs": [
    {
     "ename": "SystemError",
     "evalue": "new style getargs format but argument is not a tuple",
     "output_type": "error",
     "traceback": [
      "\u001b[0;31m---------------------------------------------------------------------------\u001b[0m",
      "\u001b[0;31mSystemError\u001b[0m                               Traceback (most recent call last)",
      "\u001b[0;32m<ipython-input-17-475950f948a5>\u001b[0m in \u001b[0;36m<module>\u001b[0;34m\u001b[0m\n\u001b[1;32m     29\u001b[0m \u001b[0msigma\u001b[0m \u001b[0;34m=\u001b[0m \u001b[0;36m5\u001b[0m\u001b[0;34m\u001b[0m\u001b[0;34m\u001b[0m\u001b[0m\n\u001b[1;32m     30\u001b[0m \u001b[0mnum_points\u001b[0m \u001b[0;34m=\u001b[0m \u001b[0;36m51\u001b[0m\u001b[0;34m\u001b[0m\u001b[0;34m\u001b[0m\u001b[0m\n\u001b[0;32m---> 31\u001b[0;31m \u001b[0mlaplacian_of_gaussian\u001b[0m \u001b[0;34m=\u001b[0m \u001b[0mlog1d\u001b[0m\u001b[0;34m(\u001b[0m\u001b[0msigma\u001b[0m\u001b[0;34m,\u001b[0m \u001b[0mnum_points\u001b[0m\u001b[0;34m)\u001b[0m\u001b[0;34m\u001b[0m\u001b[0;34m\u001b[0m\u001b[0m\n\u001b[0m\u001b[1;32m     32\u001b[0m \u001b[0;34m\u001b[0m\u001b[0m\n\u001b[1;32m     33\u001b[0m \u001b[0mmag\u001b[0m \u001b[0;34m=\u001b[0m \u001b[0;34m(\u001b[0m\u001b[0mnum_points\u001b[0m \u001b[0;34m+\u001b[0m \u001b[0;36m1\u001b[0m\u001b[0;34m)\u001b[0m\u001b[0;34m/\u001b[0m\u001b[0;36m2\u001b[0m\u001b[0;34m\u001b[0m\u001b[0;34m\u001b[0m\u001b[0m\n",
      "\u001b[0;32m<ipython-input-17-475950f948a5>\u001b[0m in \u001b[0;36mlog1d\u001b[0;34m(sigma, num_points)\u001b[0m\n\u001b[1;32m     19\u001b[0m   \u001b[0mgaussian_kernel\u001b[0m \u001b[0;34m=\u001b[0m \u001b[0mcv2\u001b[0m\u001b[0;34m.\u001b[0m\u001b[0mgetGaussianKernel\u001b[0m\u001b[0;34m(\u001b[0m\u001b[0mnum_points\u001b[0m\u001b[0;34m,\u001b[0m \u001b[0msigma\u001b[0m\u001b[0;34m)\u001b[0m\u001b[0;34m\u001b[0m\u001b[0;34m\u001b[0m\u001b[0m\n\u001b[1;32m     20\u001b[0m   \u001b[0mlaplacian_kernel\u001b[0m \u001b[0;34m=\u001b[0m \u001b[0mnp\u001b[0m\u001b[0;34m.\u001b[0m\u001b[0marray\u001b[0m\u001b[0;34m(\u001b[0m\u001b[0;34m[\u001b[0m\u001b[0;34m[\u001b[0m\u001b[0;36m0\u001b[0m\u001b[0;34m,\u001b[0m \u001b[0;34m-\u001b[0m\u001b[0;36m1\u001b[0m\u001b[0;34m,\u001b[0m \u001b[0;36m0\u001b[0m\u001b[0;34m]\u001b[0m\u001b[0;34m,\u001b[0m \u001b[0;34m[\u001b[0m\u001b[0;34m-\u001b[0m\u001b[0;36m1\u001b[0m\u001b[0;34m,\u001b[0m \u001b[0;36m4\u001b[0m\u001b[0;34m,\u001b[0m \u001b[0;34m-\u001b[0m\u001b[0;36m1\u001b[0m\u001b[0;34m]\u001b[0m\u001b[0;34m,\u001b[0m \u001b[0;34m[\u001b[0m\u001b[0;36m0\u001b[0m\u001b[0;34m,\u001b[0m \u001b[0;34m-\u001b[0m\u001b[0;36m1\u001b[0m\u001b[0;34m,\u001b[0m \u001b[0;36m0\u001b[0m\u001b[0;34m]\u001b[0m\u001b[0;34m]\u001b[0m\u001b[0;34m)\u001b[0m\u001b[0;34m\u001b[0m\u001b[0;34m\u001b[0m\u001b[0m\n\u001b[0;32m---> 21\u001b[0;31m   \u001b[0mlaplacian_of_gaussian\u001b[0m \u001b[0;34m=\u001b[0m \u001b[0mcv2\u001b[0m\u001b[0;34m.\u001b[0m\u001b[0mGaussianBlur\u001b[0m\u001b[0;34m(\u001b[0m\u001b[0mgaussian_kernel\u001b[0m\u001b[0;34m*\u001b[0m\u001b[0mgaussian_kernel\u001b[0m\u001b[0;34m.\u001b[0m\u001b[0mT\u001b[0m\u001b[0;34m,\u001b[0m \u001b[0;34m-\u001b[0m\u001b[0;36m1\u001b[0m\u001b[0;34m,\u001b[0m \u001b[0mlaplacian_kernel\u001b[0m\u001b[0;34m)\u001b[0m\u001b[0;34m\u001b[0m\u001b[0;34m\u001b[0m\u001b[0m\n\u001b[0m\u001b[1;32m     22\u001b[0m \u001b[0;34m\u001b[0m\u001b[0m\n\u001b[1;32m     23\u001b[0m   \u001b[0;31m#laplacian_of_gaussian = 1/(np.sqrt(2*pi)*sigma) * (num_points**2/sigma**4 - 1/sigma**2) * np.exp(-num_points**2/(2*sigma**2))\u001b[0m\u001b[0;34m\u001b[0m\u001b[0;34m\u001b[0m\u001b[0;34m\u001b[0m\u001b[0m\n",
      "\u001b[0;31mSystemError\u001b[0m: new style getargs format but argument is not a tuple"
     ]
    }
   ],
   "source": [
    "def log1d(sigma, num_points):\n",
    "  \"\"\"\n",
    "  Returns num_points sampled the laplacian of a Gaussian with std=sigma\n",
    "  \n",
    "  Output is symmetric with unit sampling period.\n",
    "  Zero is sampled only when num_points is odd.\n",
    "  Examples:\n",
    "    if num_points==3, sample points are [-1,0,1]\n",
    "    if num_points==4, sample points are [-1.5, -0.5, 0.5, 1.5]\n",
    "  Inputs:\n",
    "    sigma: standard deviation\n",
    "    num_points: output length.\n",
    "  Outputs:\n",
    "    laplacian_of_gaussian: a numpy array representing the laplacian of the \n",
    "    gaussin  of dimension (num_points)\n",
    "  \"\"\"\n",
    "  \"\"\" INSERT YOUR CODE HERE \"\"\"\n",
    "\n",
    "  gaussian_kernel = cv2.getGaussianKernel(num_points, sigma)\n",
    "  laplacian_kernel = np.array([[0, -1, 0], [-1, 4, -1], [0, -1, 0]])\n",
    "  laplacian_of_gaussian = cv2.GaussianBlur(gaussian_kernel*gaussian_kernel.T, -1, laplacian_kernel)\n",
    "  \n",
    "  #laplacian_of_gaussian = 1/(np.sqrt(2*pi)*sigma) * (num_points**2/sigma**4 - 1/sigma**2) * np.exp(-num_points**2/(2*sigma**2))\n",
    "  breakpoint()\n",
    "  \"\"\" END YOUR CODE \"\"\"\n",
    "  assert(len(laplacian_of_gaussian.shape) == 1 and laplacian_of_gaussian.shape[0] == num_points)\n",
    "  return laplacian_of_gaussian\n",
    "\n",
    "sigma = 5\n",
    "num_points = 51\n",
    "laplacian_of_gaussian = log1d(sigma, num_points)\n",
    "\n",
    "mag = (num_points + 1)/2\n",
    "step = 2 * mag / (num_points + 1)\n",
    "x = np.arange(start=-mag, stop=mag, step=step)[1:]\n",
    "\n",
    "plt.figure()\n",
    "plt.plot(x, laplacian_of_gaussian)\n",
    "plt.title(\"Example LoG filter, sigma={}\".format(sigma))\n",
    "pass"
   ]
  },
  {
   "cell_type": "markdown",
   "metadata": {
    "id": "ByGCukWw3Mxr"
   },
   "source": [
    "## Approximating a LoG by a DoG"
   ]
  },
  {
   "cell_type": "code",
   "execution_count": 10,
   "metadata": {
    "id": "ZBRD9cB6d9z5"
   },
   "outputs": [],
   "source": [
    "def dog1d(sigma, k, num_points):\n",
    "  \"\"\"DOG1D - return difference of gaussians of std k*sigma and sigma\n",
    "  Syntax: g = dog1d(sigma, k, num_points)\n",
    "\n",
    "  Output is symmetric with unit sampling period.\n",
    "  Zero is sampled only when num_points is odd.\n",
    "\n",
    "  Inputs:\n",
    "    sigma: standard deviation\n",
    "    k: standard deviation ratio\n",
    "    num_points: output length.\n",
    "  Outputs:\n",
    "    dog: a numpy array of difference of gaussians with dimension (num_points)\n",
    "  \"\"\"\n",
    "\n",
    "  \"\"\" INSERT YOUR CODE HERE \"\"\"\n",
    "  \n",
    "  g = cv2.getGaussianKernel(num_points, sigma);\n",
    "  g_k = cv2.getGaussianKernel(num_points, k*sigma);\n",
    "  dog = g_k-g;  \n",
    "\n",
    "  \"\"\" END YOUR CODE \"\"\"\n",
    "\n",
    "  assert(len(dog.shape) == 1 and dog.shape[0] == num_points)\n",
    "  return dog"
   ]
  },
  {
   "cell_type": "code",
   "execution_count": null,
   "metadata": {
    "id": "5riTjDgFleTe"
   },
   "outputs": [],
   "source": [
    "k_range = np.arange(1.001, 2.1, 0.1)\n",
    "diffs = []\n",
    "approximations = []\n",
    "for k in k_range:\n",
    "  \"\"\" INSERT YOUR CODE HERE \"\"\"\n",
    "  # Approximate the LoG with the DoG, computed with a standard deviation ratio\n",
    "  # of k\n",
    "\n",
    "  \"\"\" END YOUR CODE \"\"\"\n",
    "\n",
    "  assert(len(log_approx.shape) == 1 and log_approx.shape[0] == num_points)\n",
    "  approximations.append(log_approx)\n",
    "  diffs.append(np.sqrt(np.sum((laplacian_of_gaussian - log_approx)**2)))\n",
    "\n",
    "\n",
    "plt.figure()\n",
    "for approx in approximations:\n",
    "  plt.plot(x, approx, color='b')\n",
    "\n",
    "plt.plot(x, laplacian_of_gaussian, color='r')\n",
    "\n",
    "plt.title('Approximations of LoG')\n",
    "\n",
    "plt.figure()\n",
    "plt.plot(k_range, diffs)\n",
    "plt.xlabel('k')\n",
    "plt.ylabel('|| DoG - LoG ||_2')\n",
    "plt.title('Difference between LoG and DoG as k increases')\n",
    "pass"
   ]
  },
  {
   "cell_type": "markdown",
   "metadata": {
    "id": "65SFE4_j3Bo6"
   },
   "source": [
    "## Detecting Sunflowers"
   ]
  },
  {
   "cell_type": "markdown",
   "metadata": {
    "id": "G-k7kZBNvljn"
   },
   "source": [
    "### Gaussian 2D Kernel"
   ]
  },
  {
   "cell_type": "code",
   "execution_count": null,
   "metadata": {
    "id": "ZlMzRdktvpZX"
   },
   "outputs": [],
   "source": [
    "def gaussian2d(sigma, num_points):\n",
    "  \"\"\" Makes a discrete centered 2d gaussian\n",
    "  Output is symmetric with unit sampling period.\n",
    "  (0,0) is sampled only when num_points is odd.\n",
    "\n",
    "  sigma - standard deviation\n",
    "  num_points - number of points to sample in each dimension\n",
    "\n",
    "  Output:\n",
    "    g - a num_points x num_points tensor containing samples from the gaussian\n",
    "  \"\"\"\n",
    "  \"\"\" INSERT YOUR CODE HERE \"\"\"\n",
    "\n",
    "\n",
    "  \"\"\" END YOUR CODE \"\"\"\n",
    "  assert(g.shape == (num_points, num_points))\n",
    "  return g"
   ]
  },
  {
   "cell_type": "markdown",
   "metadata": {
    "id": "P2hkFaJHUwov"
   },
   "source": [
    "### Load image"
   ]
  },
  {
   "cell_type": "code",
   "execution_count": null,
   "metadata": {
    "id": "7rJ2DWop3JBI"
   },
   "outputs": [],
   "source": [
    "\"\"\" Loads and displays the sunflower image.  You must upload the image by \n",
    "clicking on the folder icon to the left, then clicking upload.  You will have to\n",
    "re-upload the image every time your colab session restarts.\n",
    "\"\"\"\n",
    "\n",
    "# Inverts color channels because cv2 reads images as BGR while matplotlib\n",
    "# uses RGB\n",
    "original_im = cv2.imread('sunflowers.jpg')[:, :, ::-1]\n",
    "#original_im = cv2.imread('balloons.jpg')[:, :, ::-1]\n",
    "original_im = cv2.resize(original_im, (0,0), fx=0.5, fy=0.5)\n",
    "plt.imshow(original_im)\n",
    "\n",
    "plt.figure()\n",
    "# Discard everything except the green channel (where sunflowers seem to be\n",
    "# salient)\n",
    "im = original_im[:, :, 1]\n",
    "plt.imshow(im, cmap='Greys')\n",
    "# Puts the image onto the gpu\n",
    "im = torch.tensor(im).to(torch.float32).cuda()\n",
    "pass"
   ]
  },
  {
   "cell_type": "markdown",
   "metadata": {
    "id": "YcEpN5stUdzX"
   },
   "source": [
    "###  Detecting Blobs"
   ]
  },
  {
   "cell_type": "code",
   "execution_count": null,
   "metadata": {
    "id": "4B6fqCO44KIy"
   },
   "outputs": [],
   "source": [
    "# Scale space parameters\n",
    "n_scales = 7 #10#30\n",
    "\n",
    "sigma = 3\n",
    "k = math.sqrt(2)\n",
    "\n",
    "# Create blurred versions of the image with different scale filters\n",
    "filtered_ims = torch.zeros(n_scales+1, im.shape[0], im.shape[1])\n",
    "for i in range(0, n_scales + 1):\n",
    "  sigma_i = sigma * k ** i\n",
    "  fSize = 2 * int(5*sigma_i)+1\n",
    "\n",
    "  \"\"\" YOUR CODE HERE \"\"\"\n",
    "  # Blur the image with a 2D gaussian filter with standard deviation sigma_i\n",
    "  # and a size of fSize x fSize.\n",
    "\n",
    "  # This operation is pretty computationally expensive, so it should be run\n",
    "  # on the gpu.\n",
    "  # Solutions that do not perform their computation on the gpu will not be \n",
    "  # graded.\n",
    "\n",
    "  \"\"\" END YOUR CODE \"\"\"\n",
    "\n",
    "  filtered_ims[i] = filtered\n",
    "\n",
    "# Difference of Gaussians\n",
    "dog = filtered_ims[1:, :, :] - filtered_ims[:1, :, :]\n",
    "\n",
    "# Performs non-maximal supression across x, y, and sigma\n",
    "points = [[], [], [], []]\n",
    "np_dog = dog.cpu().numpy().astype(np.float32)\n",
    "max_across_scales = np.max(np_dog, axis=0)\n",
    "dilated_max_across_scales = cv2.dilate(max_across_scales, np.ones((3, 3), np.uint8))\n",
    "\n",
    "for i, image in enumerate(np_dog):\n",
    "  np_im = image\n",
    "  np_im[dilated_max_across_scales != np_im] = 0.0\n",
    "  \n",
    "  xs, ys = np.where(np_im > 0.0)\n",
    "  scores = np_im[xs, ys]\n",
    "  points[0].extend(list(xs))\n",
    "  points[1].extend(list(ys))\n",
    "  points[2].extend(list(scores))\n",
    "  points[3].extend([i] * len(scores))\n",
    "points = torch.tensor(points)\n",
    "\n",
    "# Discard maxima near the borders\n",
    "threshold = 10\n",
    "valid_indices = torch.where((points[0] > threshold) &\n",
    "                            (points[1] > threshold) &\n",
    "                            (points[0] < im.shape[0] - threshold) &\n",
    "                            (points[1] < im.shape[1] - threshold))[0]\n",
    "points = points[:, valid_indices]\n",
    "points = points.reshape(points.shape[0], -1)\n",
    "\n",
    "\"\"\" YOUR CODE HERE \"\"\"\n",
    "# Keep only local maxima that have a response above\n",
    "# 50% of the maximum response over the whole 3D scale\n",
    "# space\n",
    "\n",
    "\"\"\" END YOUR CODE \"\"\"\n",
    "\n",
    "fig, ax = plt.subplots(1)\n",
    "\n",
    "ax.imshow(original_im)\n",
    "for i in range(points.shape[1]):\n",
    "  point = points[:, i]\n",
    "\n",
    "  # Calculate the radius of the circle you will display\n",
    "  radius = sigma * k ** point[3] * math.sqrt(2)\n",
    "\n",
    "  circle = plt.Circle((point[1], point[0]), radius, color='r', fill=False)\n",
    "  ax.add_patch(circle)\n"
   ]
  },
  {
   "cell_type": "markdown",
   "metadata": {
    "id": "p1thhvvkvbCA"
   },
   "source": [
    "# Q2 Finding Waldo with Gabor filters\n"
   ]
  },
  {
   "cell_type": "markdown",
   "metadata": {
    "id": "aeE7fKmlwGyQ"
   },
   "source": [
    "## Gabor 2D Filter"
   ]
  },
  {
   "cell_type": "code",
   "execution_count": null,
   "metadata": {
    "id": "PYMundrGwLcH"
   },
   "outputs": [],
   "source": [
    "def gaborFilter2D(T_f, theta, sigma, length):\n",
    "  # This function returns two 2D Gabor quadrature filters\n",
    "  # (square matrices).\n",
    "  # For this implementation of this function you can use your \n",
    "  # implementation of gaussian2d\n",
    "  #\n",
    "  # ARGUMENTS\n",
    "  # - T_f: spatial period in pixels\n",
    "  # - theta: carrier orientation in degrees (0 corresponds\n",
    "  # to oscillation along x-axis only)\n",
    "  # - sigma: covariance of Gaussian envelope\n",
    "  # - length: output is length x length.\n",
    "  #\n",
    "  # OUTPUT\n",
    "  # filter_cos, filter_sin: two 2d matrices containing the real part\n",
    "  # and the imaginary part of the filter\n",
    "\n",
    "  ''' INSERT YOUR CODE HERE '''\n",
    "\n",
    "  ''' END YOUR CODE '''\n",
    "  return filter_cos, filter_sin"
   ]
  },
  {
   "cell_type": "markdown",
   "metadata": {
    "id": "VEijXDSZwkog"
   },
   "source": [
    "### Check Gabor filter"
   ]
  },
  {
   "cell_type": "code",
   "execution_count": null,
   "metadata": {
    "id": "hVhDQZUwwkKw"
   },
   "outputs": [],
   "source": [
    "incr_frequency=cv2.imread('increased_frequency.png')[:,:,0]\n",
    "incr_frequency=incr_frequency/255\n",
    "incr_frequency=torch.from_numpy(incr_frequency-np.mean(incr_frequency[:])).float()\n",
    "image_shape=incr_frequency.shape\n",
    "\n",
    "plt.figure()\n",
    "plt.imshow(incr_frequency,cmap='gray')\n",
    "plt.title(\"Original image\")\n",
    "plt.show()\n",
    "\n",
    "# Get real and imaginary part of Gabor filter for different periods\n",
    "# and angles\n",
    "\n",
    "T_f_list=[20,30,10]\n",
    "theta_list=[30,60,270]\n",
    "for T_f, theta in zip(T_f_list,theta_list):\n",
    "\n",
    "  length=3*T_f\n",
    "  g1,g2=gaborFilter2D(T_f,theta,T_f/np.sqrt(2),length)\n",
    "\n",
    "  ''' INSERT YOUR CODE HERE '''\n",
    "  # Convolve image incr_frequency with the gabor filter\n",
    "  # and compute the real response (real), the imaginary response (imag)\n",
    "  # and the magnitude of the response (magnitude)\n",
    "\n",
    "  ''' END YOUR CODE '''\n",
    "\n",
    "  f=plt.figure()\n",
    "  f.set_size_inches(15, 7.5)\n",
    "  ax=f.add_subplot(131)\n",
    "  ax.imshow(real)\n",
    "  ax.set_title(\"Real response Tf=\"+str(T_f)+\", theta=\"+str(theta))\n",
    "\n",
    "  ax=f.add_subplot(132)\n",
    "  ax.imshow(imag)\n",
    "  ax.set_title(\"Imaginary response Tf=\"+str(T_f)+\", theta=\"+str(theta))\n",
    "\n",
    "  ax=f.add_subplot(133)\n",
    "  ax.imshow(magnitude)\n",
    "  ax.set_title(\"Magnitude of response Tf=\"+str(T_f)+\", theta=\"+str(theta))\n",
    "  plt.show()"
   ]
  },
  {
   "cell_type": "markdown",
   "metadata": {
    "id": "vjKFbEncwwUP"
   },
   "source": [
    "## Where is Waldo?"
   ]
  },
  {
   "cell_type": "markdown",
   "metadata": {
    "id": "p0qmRh7_w1Cf"
   },
   "source": [
    "### Determine the period of the given stripe pattern"
   ]
  },
  {
   "cell_type": "code",
   "execution_count": null,
   "metadata": {
    "id": "VS2BRfsswz-H"
   },
   "outputs": [],
   "source": [
    "def determineStripePeriod(pattern_image_path):\n",
    "  # Determines the period of stripes in a grayscale (2D) Waldo image,\n",
    "  # with the following method:\n",
    "  # The input argument is the path of an image containing only the stripe \n",
    "  # of Waldo's shirt\n",
    "  # After performing FFT it find the vertical frequency (w_y) in the range [0,pi]\n",
    "  # that corresponds to the largest amplitude \n",
    "  # Using w_y it recovers the period T_y of the stripe pattern\n",
    "  #\n",
    "  # ARGUMENTS\n",
    "  # -pattern_image_path: path to the image containing Waldo's shirt pattern\n",
    "  # OUTPUT\n",
    "  # - T_y: estimated spatial period of the stripes in the patch (in\n",
    "  # *pixels*)\n",
    "\n",
    "\n",
    "  # User chooses a patch in the image\n",
    "  stripe_image=cv2.imread(pattern_image_path)[:,:,::-1]\n",
    "  \n",
    "  stripe_image=stripe_image/255\n",
    "  gray_pattern = stripe_image[:,:,0] - 0.5*(stripe_image[:,:,1] + stripe_image[:,:,2]);\n",
    "  gray_pattern[gray_pattern < np.mean(gray_pattern[:])] = np.mean(gray_pattern[:]);\n",
    "  gray_pattern=gray_pattern-np.mean(gray_pattern)\n",
    "\n",
    "  fft_mag = np.abs((fft.fft2(gray_pattern)));\n",
    "  \n",
    "  plt.figure()\n",
    "  plt.imshow(fft_mag)\n",
    "  plt.title('FFT of stripe pattern (without fftshift)')\n",
    "  plt.show()\n",
    "\n",
    "  # Pick the part of the spectrum corresponding to frequencies \n",
    "  # (w_y,w_x) in [0,pi]x[0,pi]\n",
    "  fft_size=fft_mag.shape\n",
    "  fft_mag=fft_mag[0:fft_size[0]//2,0:fft_size[1]//2]\n",
    "  \n",
    "  ''' INSERT YOUR CODE HERE '''\n",
    "  # Get the frequency along the y axis with the highest amplitude\n",
    "\n",
    "  # Using the frequency recover the period T_y of the pattern in pixels\n",
    "\n",
    "  ''' END YOUR CODE '''\n",
    "\n",
    "  return T_y"
   ]
  },
  {
   "cell_type": "markdown",
   "metadata": {
    "id": "V_jRLl6Gw68_"
   },
   "source": [
    "### Load image"
   ]
  },
  {
   "cell_type": "code",
   "execution_count": null,
   "metadata": {
    "id": "7WsHq3BUxLRZ"
   },
   "outputs": [],
   "source": [
    "\n",
    "# Load the image\n",
    "image=cv2.imread('waldo.jpg')[:,:,::-1]\n",
    "\n",
    "# Transformation to a greyscale where red-and-white stripes\n",
    "# appear black-and-white\n",
    "image=image/255\n",
    "im_red = image[:,:,0] - 0.5*(image[:,:,1] + image[:,:,2]);\n",
    "im_red[im_red < np.mean(im_red[:])] = np.mean(im_red[:]);\n",
    "im_red = im_red - np.mean(im_red[:]);\n",
    "\n",
    "# Show the images\n",
    "plt.figure(figsize=[12.8,8.6])\n",
    "plt.imshow(image,interpolation='nearest')\n",
    "plt.title('Original Image')\n",
    "plt.show()\n",
    "\n",
    "\n",
    "plt.figure(figsize=[12.8,8.6])\n",
    "plt.imshow(im_red,cmap='gray')\n",
    "plt.title('Special Grayscale for red-and-white patterns')\n",
    "plt.show()"
   ]
  },
  {
   "cell_type": "markdown",
   "metadata": {
    "id": "Q6OdRouMxQjQ"
   },
   "source": [
    "### Compute candidate areas containing the stripe pattern"
   ]
  },
  {
   "cell_type": "code",
   "execution_count": null,
   "metadata": {
    "id": "XoQDxM-nxVwR"
   },
   "outputs": [],
   "source": [
    "# Find out period of stripes\n",
    "T_y = determineStripePeriod(\"stripe_pattern.jpg\")\n",
    "print(\"Stripe period is \",T_y, \" pixels\")\n",
    "#Generate vertical Gabor filter for T_y\n",
    "g1,g2 = gaborFilter2D(T_y, 90, T_y/np.sqrt(2), 3*round(T_y))\n",
    "\n",
    "''' INSERT YOUR CODE HERE '''\n",
    "# Convolve the grayscale image with the gabor filter and compute \n",
    "# the magnitude (mag) of the response\n",
    "\n",
    "\n",
    "''' END YOUR CODE '''\n",
    "\n",
    "# Create mask with all the candidate points\n",
    "mask = mag>0.70*np.max(mag[:])"
   ]
  },
  {
   "cell_type": "markdown",
   "metadata": {
    "id": "ZYOmeKNCxZ7v"
   },
   "source": [
    "### Plot results"
   ]
  },
  {
   "cell_type": "code",
   "execution_count": null,
   "metadata": {
    "id": "bkiXA_spxdIg"
   },
   "outputs": [],
   "source": [
    "# Plot the output corresponding to the neighborhood in the image where the convolution with the\n",
    "# gabor kernels give the largest amplitude\n",
    "\n",
    "# Dilate mask\n",
    "se=np.array(cv2.getStructuringElement(cv2.MORPH_ELLIPSE,(40,40)))\n",
    "dil_mask= ndimage.binary_dilation(mask,structure=se,iterations=2)\n",
    "dil_mask=np.expand_dims(dil_mask,axis=2)\n",
    "\n",
    "# Plot the results\n",
    "plt.figure(figsize=[12.8,8.6])\n",
    "masked_image=np.multiply(dil_mask,image)\n",
    "plt.imshow(masked_image)\n",
    "plt.show()"
   ]
  }
 ],
 "metadata": {
  "accelerator": "GPU",
  "colab": {
   "collapsed_sections": [],
   "name": "Homework7_template.ipynb",
   "provenance": []
  },
  "kernelspec": {
   "display_name": "Python 3",
   "language": "python",
   "name": "python3"
  },
  "language_info": {
   "codemirror_mode": {
    "name": "ipython",
    "version": 3
   },
   "file_extension": ".py",
   "mimetype": "text/x-python",
   "name": "python",
   "nbconvert_exporter": "python",
   "pygments_lexer": "ipython3",
   "version": "3.7.10"
  }
 },
 "nbformat": 4,
 "nbformat_minor": 4
}
